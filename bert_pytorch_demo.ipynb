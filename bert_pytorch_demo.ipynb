{
 "cells": [
  {
   "cell_type": "markdown",
   "metadata": {},
   "source": [
    "建立Dataset"
   ]
  },
  {
   "cell_type": "code",
   "execution_count": 44,
   "metadata": {},
   "outputs": [],
   "source": [
    "from torch.utils.data import Dataset\n",
    "import pandas as pd #for read data\n",
    "import torch\n",
    "class MyDemoDataset(Dataset):\n",
    "    def __init__(self) -> None:\n",
    "        super().__init__()\n",
    "        data = pd.read_csv(\"~/Desktop/train.csv\")\n",
    "        self.x = data[[\"title1_zh\", \"title2_zh\"]]\n",
    "        self.y = data[\"label\"]\n",
    "    def __len__(self):\n",
    "        return len(self.x)\n",
    "    def __getitem__(self, index):\n",
    "        #無意義處理，純粹示範用\n",
    "        result = [len(self.x.iloc[index, 0]), len(self.x.iloc[index, 1])]\n",
    "        return result"
   ]
  },
  {
   "cell_type": "markdown",
   "metadata": {},
   "source": [
    "建立Dataloader"
   ]
  },
  {
   "cell_type": "code",
   "execution_count": 45,
   "metadata": {},
   "outputs": [],
   "source": [
    "from torch.utils.data import DataLoader\n",
    "myDataLoader = DataLoader(dataset=MyDemoDataset(), shuffle=True, batch_size=5)"
   ]
  },
  {
   "cell_type": "code",
   "execution_count": 41,
   "metadata": {},
   "outputs": [
    {
     "name": "stdout",
     "output_type": "stream",
     "text": [
      "[tensor([21, 29, 23, 28, 23]), tensor([35, 30, 19, 30, 30])]\n",
      "[tensor([13, 30, 25, 15, 22]), tensor([22, 28, 29, 27, 25])]\n",
      "[tensor([27, 15, 26, 23, 10]), tensor([32, 19, 22, 32, 17])]\n",
      "[tensor([25, 32, 28, 19, 13]), tensor([22, 32, 23, 28, 30])]\n"
     ]
    }
   ],
   "source": [
    "\n",
    "for i, data in enumerate(myDataLoader):\n",
    "    print(data)\n",
    "    if i == 3:\n",
    "        break \n",
    "    \n",
    "demo_iter = iter(myDataLoader)\n",
    "next(demo_iter)"
   ]
  },
  {
   "cell_type": "markdown",
   "metadata": {},
   "source": [
    "Transformers示範:\n",
    "Pre-trained Tokenizer from BERT Model"
   ]
  },
  {
   "cell_type": "code",
   "execution_count": 43,
   "metadata": {},
   "outputs": [
    {
     "data": {
      "text/plain": [
       "[tensor([20, 22, 25, 17, 30]), tensor([26, 15, 30, 26, 26])]"
      ]
     },
     "execution_count": 43,
     "metadata": {},
     "output_type": "execute_result"
    }
   ],
   "source": [
    "from transformers import BertTokenizerFast\n",
    "MY_PRETRAINED_MODEL = \"bert-base-chinese\"\n",
    "tokenizer = BertTokenizerFast.from_pretrained(MY_PRETRAINED_MODEL)\n",
    "tokenizer()"
   ]
  },
  {
   "cell_type": "code",
   "execution_count": null,
   "metadata": {},
   "outputs": [],
   "source": [
    "tmp.columns\n",
    "len(tmp)\n",
    "import os\n",
    "os.cpu_count()"
   ]
  },
  {
   "cell_type": "code",
   "execution_count": null,
   "metadata": {},
   "outputs": [],
   "source": []
  }
 ],
 "metadata": {
  "kernelspec": {
   "display_name": "Python 3.9.6 ('env': venv)",
   "language": "python",
   "name": "python3"
  },
  "language_info": {
   "codemirror_mode": {
    "name": "ipython",
    "version": 3
   },
   "file_extension": ".py",
   "mimetype": "text/x-python",
   "name": "python",
   "nbconvert_exporter": "python",
   "pygments_lexer": "ipython3",
   "version": "3.9.6"
  },
  "orig_nbformat": 4,
  "vscode": {
   "interpreter": {
    "hash": "5d58828fd0c5f7af717daf8982e0a9ccf3c174b5c7bbe63b6216d1f875908829"
   }
  }
 },
 "nbformat": 4,
 "nbformat_minor": 2
}
