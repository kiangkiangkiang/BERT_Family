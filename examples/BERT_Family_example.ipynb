{
  "cells": [
    {
      "cell_type": "markdown",
      "metadata": {
        "id": "_V8ElIHMt4CD"
      },
      "source": [
        "# install package from github\n",
        "\n",
        "Two demos in google colab: \n",
        "1. Step by Step: https://colab.research.google.com/drive/1NeurI_grWw_G-w8XosjY3elpdQrYE7U1#scrollTo=HBNJBdBprrEg\n",
        "2. mrpc: https://colab.research.google.com/drive/15sQPgfSncybmcCp_1XydmHrmBugir_7y?usp=sharing\n"
      ]
    },
    {
      "cell_type": "code",
      "execution_count": 12,
      "metadata": {
        "id": "HBNJBdBprrEg"
      },
      "outputs": [
        {
          "name": "stdout",
          "output_type": "stream",
          "text": [
            "Collecting git+https://github.com/kiangkiangkiang/BERT_Family.git\n",
            "  Cloning https://github.com/kiangkiangkiang/BERT_Family.git to /tmp/pip-req-build-axs5z5j_\n",
            "  Running command git clone --filter=blob:none --quiet https://github.com/kiangkiangkiang/BERT_Family.git /tmp/pip-req-build-axs5z5j_\n",
            "  Resolved https://github.com/kiangkiangkiang/BERT_Family.git to commit 95e76651be8feaf41be340503d1bd8b7ad574c7a\n",
            "  Preparing metadata (setup.py) ... \u001b[?25ldone\n",
            "\u001b[?25hRequirement already satisfied: transformers>=4.25.1 in /opt/conda/envs/pytorch/lib/python3.9/site-packages (from BERT-Family==0.0.1) (4.25.1)\n",
            "Requirement already satisfied: torch>=1.13.1 in /opt/conda/envs/pytorch/lib/python3.9/site-packages (from BERT-Family==0.0.1) (1.13.1)\n",
            "Requirement already satisfied: pandas>=1.5.2 in /home/ubuntu/.local/lib/python3.9/site-packages (from BERT-Family==0.0.1) (1.5.3)\n",
            "Requirement already satisfied: tqdm>=4.64.1 in /home/ubuntu/.local/lib/python3.9/site-packages (from BERT-Family==0.0.1) (4.64.1)\n",
            "Requirement already satisfied: datasets>=2.8.0 in /opt/conda/envs/pytorch/lib/python3.9/site-packages (from BERT-Family==0.0.1) (2.8.0)\n",
            "Requirement already satisfied: multiprocess in /opt/conda/envs/pytorch/lib/python3.9/site-packages (from datasets>=2.8.0->BERT-Family==0.0.1) (0.70.14)\n",
            "Requirement already satisfied: pyarrow>=6.0.0 in /opt/conda/envs/pytorch/lib/python3.9/site-packages (from datasets>=2.8.0->BERT-Family==0.0.1) (10.0.1)\n",
            "Requirement already satisfied: fsspec[http]>=2021.11.1 in /opt/conda/envs/pytorch/lib/python3.9/site-packages (from datasets>=2.8.0->BERT-Family==0.0.1) (2022.11.0)\n",
            "Requirement already satisfied: numpy>=1.17 in /opt/conda/envs/pytorch/lib/python3.9/site-packages (from datasets>=2.8.0->BERT-Family==0.0.1) (1.23.5)\n",
            "Requirement already satisfied: pyyaml>=5.1 in /opt/conda/envs/pytorch/lib/python3.9/site-packages (from datasets>=2.8.0->BERT-Family==0.0.1) (5.4.1)\n",
            "Requirement already satisfied: responses<0.19 in /opt/conda/envs/pytorch/lib/python3.9/site-packages (from datasets>=2.8.0->BERT-Family==0.0.1) (0.18.0)\n",
            "Requirement already satisfied: aiohttp in /opt/conda/envs/pytorch/lib/python3.9/site-packages (from datasets>=2.8.0->BERT-Family==0.0.1) (3.8.3)\n",
            "Requirement already satisfied: huggingface-hub<1.0.0,>=0.2.0 in /opt/conda/envs/pytorch/lib/python3.9/site-packages (from datasets>=2.8.0->BERT-Family==0.0.1) (0.11.1)\n",
            "Requirement already satisfied: packaging in /opt/conda/envs/pytorch/lib/python3.9/site-packages (from datasets>=2.8.0->BERT-Family==0.0.1) (21.3)\n",
            "Requirement already satisfied: dill<0.3.7 in /opt/conda/envs/pytorch/lib/python3.9/site-packages (from datasets>=2.8.0->BERT-Family==0.0.1) (0.3.6)\n",
            "Requirement already satisfied: requests>=2.19.0 in /opt/conda/envs/pytorch/lib/python3.9/site-packages (from datasets>=2.8.0->BERT-Family==0.0.1) (2.28.1)\n",
            "Requirement already satisfied: xxhash in /opt/conda/envs/pytorch/lib/python3.9/site-packages (from datasets>=2.8.0->BERT-Family==0.0.1) (3.2.0)\n",
            "Requirement already satisfied: python-dateutil>=2.8.1 in /opt/conda/envs/pytorch/lib/python3.9/site-packages (from pandas>=1.5.2->BERT-Family==0.0.1) (2.8.2)\n",
            "Requirement already satisfied: pytz>=2020.1 in /opt/conda/envs/pytorch/lib/python3.9/site-packages (from pandas>=1.5.2->BERT-Family==0.0.1) (2022.7)\n",
            "Requirement already satisfied: typing_extensions in /opt/conda/envs/pytorch/lib/python3.9/site-packages (from torch>=1.13.1->BERT-Family==0.0.1) (4.4.0)\n",
            "Requirement already satisfied: regex!=2019.12.17 in /opt/conda/envs/pytorch/lib/python3.9/site-packages (from transformers>=4.25.1->BERT-Family==0.0.1) (2022.10.31)\n",
            "Requirement already satisfied: tokenizers!=0.11.3,<0.14,>=0.11.1 in /opt/conda/envs/pytorch/lib/python3.9/site-packages (from transformers>=4.25.1->BERT-Family==0.0.1) (0.13.2)\n",
            "Requirement already satisfied: filelock in /opt/conda/envs/pytorch/lib/python3.9/site-packages (from transformers>=4.25.1->BERT-Family==0.0.1) (3.6.0)\n",
            "Requirement already satisfied: frozenlist>=1.1.1 in /opt/conda/envs/pytorch/lib/python3.9/site-packages (from aiohttp->datasets>=2.8.0->BERT-Family==0.0.1) (1.3.3)\n",
            "Requirement already satisfied: yarl<2.0,>=1.0 in /opt/conda/envs/pytorch/lib/python3.9/site-packages (from aiohttp->datasets>=2.8.0->BERT-Family==0.0.1) (1.8.2)\n",
            "Requirement already satisfied: attrs>=17.3.0 in /opt/conda/envs/pytorch/lib/python3.9/site-packages (from aiohttp->datasets>=2.8.0->BERT-Family==0.0.1) (22.1.0)\n",
            "Requirement already satisfied: aiosignal>=1.1.2 in /opt/conda/envs/pytorch/lib/python3.9/site-packages (from aiohttp->datasets>=2.8.0->BERT-Family==0.0.1) (1.3.1)\n",
            "Requirement already satisfied: multidict<7.0,>=4.5 in /opt/conda/envs/pytorch/lib/python3.9/site-packages (from aiohttp->datasets>=2.8.0->BERT-Family==0.0.1) (6.0.4)\n",
            "Requirement already satisfied: async-timeout<5.0,>=4.0.0a3 in /opt/conda/envs/pytorch/lib/python3.9/site-packages (from aiohttp->datasets>=2.8.0->BERT-Family==0.0.1) (4.0.2)\n",
            "Requirement already satisfied: charset-normalizer<3.0,>=2.0 in /opt/conda/envs/pytorch/lib/python3.9/site-packages (from aiohttp->datasets>=2.8.0->BERT-Family==0.0.1) (2.1.1)\n",
            "Requirement already satisfied: pyparsing!=3.0.5,>=2.0.2 in /opt/conda/envs/pytorch/lib/python3.9/site-packages (from packaging->datasets>=2.8.0->BERT-Family==0.0.1) (3.0.9)\n",
            "Requirement already satisfied: six>=1.5 in /opt/conda/envs/pytorch/lib/python3.9/site-packages (from python-dateutil>=2.8.1->pandas>=1.5.2->BERT-Family==0.0.1) (1.16.0)\n",
            "Requirement already satisfied: urllib3<1.27,>=1.21.1 in /opt/conda/envs/pytorch/lib/python3.9/site-packages (from requests>=2.19.0->datasets>=2.8.0->BERT-Family==0.0.1) (1.26.13)\n",
            "Requirement already satisfied: idna<4,>=2.5 in /opt/conda/envs/pytorch/lib/python3.9/site-packages (from requests>=2.19.0->datasets>=2.8.0->BERT-Family==0.0.1) (3.4)\n",
            "Requirement already satisfied: certifi>=2017.4.17 in /opt/conda/envs/pytorch/lib/python3.9/site-packages (from requests>=2.19.0->datasets>=2.8.0->BERT-Family==0.0.1) (2022.12.7)\n"
          ]
        }
      ],
      "source": [
        "#check the output where the package install (system may miss your package)\n",
        "!pip3 install git+https://github.com/kiangkiangkiang/BERT_Family.git"
      ]
    },
    {
      "cell_type": "markdown",
      "metadata": {
        "id": "bfGGB5FBkg_N"
      },
      "source": [
        "# Append path to environment \n",
        "If you do not add the package to the environment you're using now, python may not detect this package. The system will not find the module."
      ]
    },
    {
      "cell_type": "code",
      "execution_count": 13,
      "metadata": {
        "id": "dWazblURfgLg"
      },
      "outputs": [],
      "source": [
        "import os, sys\n",
        "sys.path.append(\"/home/ubuntu/.local/lib/python3.9/site-packages\")"
      ]
    },
    {
      "cell_type": "markdown",
      "metadata": {
        "id": "yxKVe7ICuB2F"
      },
      "source": [
        "# import BERT_Family"
      ]
    },
    {
      "cell_type": "code",
      "execution_count": 14,
      "metadata": {
        "id": "avuLl1VauQ-v"
      },
      "outputs": [],
      "source": [
        "import BERT_Family as BF"
      ]
    },
    {
      "cell_type": "markdown",
      "metadata": {
        "id": "nUmfsiPfrYv7"
      },
      "source": [
        "# Example 1\n",
        "\n",
        "Workflow:\n",
        "1. Create BF object with specific pretrained model\n",
        "2. set your dataset\n",
        "3. load the pretrain model\n",
        "4. start train, eval, inference"
      ]
    },
    {
      "cell_type": "code",
      "execution_count": 15,
      "metadata": {
        "id": "rwBbAKj-rXZw"
      },
      "outputs": [],
      "source": [
        "from datasets import load_dataset\n",
        "import pandas as pd\n",
        "\n",
        "PRETRAINED_MODEL = \"albert-base-v2\"\n",
        "MAX_LENGTH = 80"
      ]
    },
    {
      "cell_type": "markdown",
      "metadata": {
        "id": "m717qiBhxE2m"
      },
      "source": [
        "## 1. Create BF object with pretrained model\n",
        "\n",
        "The model can be found from https://huggingface.co/models?sort=downloads&search=bert"
      ]
    },
    {
      "cell_type": "code",
      "execution_count": 16,
      "metadata": {
        "colab": {
          "base_uri": "https://localhost:8080/",
          "height": 105,
          "referenced_widgets": [
            "7f8b294ff41641dcaca57557739c8fd3",
            "01c22f458f744c6f85282029f23cb212",
            "4e0191a369db474e8546160fceb97790",
            "a89443fb7fac4a818c1856e977b624da",
            "e8993e6006994cebaea2194f3e35ea04",
            "13bb7da998aa43faa34b5d3b674626e2",
            "d7c6c84f0776486190c67e87c56ca80e",
            "0bcae1a952d04f4b8a156d754cf6f8f6",
            "3128095bd670476c8821f16f0ac4617d",
            "cb0e6095ba064400b1749a306cd68130",
            "e0e9e0dcf6e8414b9d59157c55fe2211"
          ]
        },
        "id": "ubYyOxvpsNgF",
        "outputId": "c1a445bd-0527-40be-fa58-eeeafb368bba"
      },
      "outputs": [
        {
          "name": "stdout",
          "output_type": "stream",
          "text": [
            "Using device:  cuda:0\n"
          ]
        }
      ],
      "source": [
        "myFamily = BF.BFClassification(pretrained_model=PRETRAINED_MODEL, tokenizer=PRETRAINED_MODEL, max_length = MAX_LENGTH)"
      ]
    },
    {
      "cell_type": "markdown",
      "metadata": {
        "id": "cm038y0cxphh"
      },
      "source": [
        "##2. Set the dataset\n",
        "The required parameters of set_dataset() are \n",
        "1. raw_data, which is a type of pd.DataFrame with only x_features.\n",
        "2. raw_target, which is a type of list, represents the label of raw_data."
      ]
    },
    {
      "cell_type": "code",
      "execution_count": 17,
      "metadata": {
        "colab": {
          "base_uri": "https://localhost:8080/"
        },
        "id": "UIgl6MKwtDBs",
        "outputId": "acc12064-cca9-41d8-d95a-f891f1b08f45"
      },
      "outputs": [
        {
          "data": {
            "application/vnd.jupyter.widget-view+json": {
              "model_id": "d5d4528048744a85a9d630717cecc1b3",
              "version_major": 2,
              "version_minor": 0
            },
            "text/plain": [
              "Downloading readme:   0%|          | 0.00/27.9k [00:00<?, ?B/s]"
            ]
          },
          "metadata": {},
          "output_type": "display_data"
        },
        {
          "name": "stderr",
          "output_type": "stream",
          "text": [
            "Found cached dataset glue (/home/ubuntu/.cache/huggingface/datasets/glue/mrpc/1.0.0/dacbe3125aa31d7f70367a07a8a9e72a5a0bfeb5fc42e75c9db75b96da6053ad)\n"
          ]
        },
        {
          "data": {
            "application/vnd.jupyter.widget-view+json": {
              "model_id": "b2b15f90c6e641e9ae69b146fc7f261d",
              "version_major": 2,
              "version_minor": 0
            },
            "text/plain": [
              "  0%|          | 0/3 [00:00<?, ?it/s]"
            ]
          },
          "metadata": {},
          "output_type": "display_data"
        },
        {
          "name": "stdout",
          "output_type": "stream",
          "text": [
            "Using  albert-base-v2  to tokenize...\n"
          ]
        },
        {
          "data": {
            "text/plain": [
              "<torch.utils.data.dataloader.DataLoader at 0x7f5d4ce4db80>"
            ]
          },
          "execution_count": 17,
          "metadata": {},
          "output_type": "execute_result"
        }
      ],
      "source": [
        "dataset = load_dataset('glue', \"mrpc\")\n",
        "data = pd.DataFrame(dataset[\"train\"])[[\"sentence1\", \"sentence2\"]]\n",
        "target = dataset[\"train\"][\"label\"]\n",
        "myFamily.set_dataset(raw_data=data, raw_target=target, batch_size=64)"
      ]
    },
    {
      "cell_type": "markdown",
      "metadata": {
        "id": "dfzu67oxyoNT"
      },
      "source": [
        "##3. load model\n",
        "\n",
        "If you have the pre-trained weights, set its path to the parameters \"model_path\" to initialize the weights."
      ]
    },
    {
      "cell_type": "code",
      "execution_count": 18,
      "metadata": {
        "id": "g_GPr_UjtpZN"
      },
      "outputs": [
        {
          "name": "stderr",
          "output_type": "stream",
          "text": [
            "Some weights of the model checkpoint at albert-base-v2 were not used when initializing AlbertForSequenceClassification: ['predictions.decoder.bias', 'predictions.dense.bias', 'predictions.decoder.weight', 'predictions.bias', 'predictions.LayerNorm.bias', 'predictions.dense.weight', 'predictions.LayerNorm.weight']\n",
            "- This IS expected if you are initializing AlbertForSequenceClassification from the checkpoint of a model trained on another task or with another architecture (e.g. initializing a BertForSequenceClassification model from a BertForPreTraining model).\n",
            "- This IS NOT expected if you are initializing AlbertForSequenceClassification from the checkpoint of a model that you expect to be exactly identical (initializing a BertForSequenceClassification model from a BertForSequenceClassification model).\n",
            "Some weights of AlbertForSequenceClassification were not initialized from the model checkpoint at albert-base-v2 and are newly initialized: ['classifier.weight', 'classifier.bias']\n",
            "You should probably TRAIN this model on a down-stream task to be able to use it for predictions and inference.\n"
          ]
        },
        {
          "data": {
            "text/plain": [
              "AlbertForSequenceClassification(\n",
              "  (albert): AlbertModel(\n",
              "    (embeddings): AlbertEmbeddings(\n",
              "      (word_embeddings): Embedding(30000, 128, padding_idx=0)\n",
              "      (position_embeddings): Embedding(512, 128)\n",
              "      (token_type_embeddings): Embedding(2, 128)\n",
              "      (LayerNorm): LayerNorm((128,), eps=1e-12, elementwise_affine=True)\n",
              "      (dropout): Dropout(p=0, inplace=False)\n",
              "    )\n",
              "    (encoder): AlbertTransformer(\n",
              "      (embedding_hidden_mapping_in): Linear(in_features=128, out_features=768, bias=True)\n",
              "      (albert_layer_groups): ModuleList(\n",
              "        (0): AlbertLayerGroup(\n",
              "          (albert_layers): ModuleList(\n",
              "            (0): AlbertLayer(\n",
              "              (full_layer_layer_norm): LayerNorm((768,), eps=1e-12, elementwise_affine=True)\n",
              "              (attention): AlbertAttention(\n",
              "                (query): Linear(in_features=768, out_features=768, bias=True)\n",
              "                (key): Linear(in_features=768, out_features=768, bias=True)\n",
              "                (value): Linear(in_features=768, out_features=768, bias=True)\n",
              "                (attention_dropout): Dropout(p=0, inplace=False)\n",
              "                (output_dropout): Dropout(p=0, inplace=False)\n",
              "                (dense): Linear(in_features=768, out_features=768, bias=True)\n",
              "                (LayerNorm): LayerNorm((768,), eps=1e-12, elementwise_affine=True)\n",
              "              )\n",
              "              (ffn): Linear(in_features=768, out_features=3072, bias=True)\n",
              "              (ffn_output): Linear(in_features=3072, out_features=768, bias=True)\n",
              "              (activation): NewGELUActivation()\n",
              "              (dropout): Dropout(p=0, inplace=False)\n",
              "            )\n",
              "          )\n",
              "        )\n",
              "      )\n",
              "    )\n",
              "    (pooler): Linear(in_features=768, out_features=768, bias=True)\n",
              "    (pooler_activation): Tanh()\n",
              "  )\n",
              "  (dropout): Dropout(p=0.1, inplace=False)\n",
              "  (classifier): Linear(in_features=768, out_features=2, bias=True)\n",
              ")"
            ]
          },
          "execution_count": 18,
          "metadata": {},
          "output_type": "execute_result"
        }
      ],
      "source": [
        "myFamily.load_model()"
      ]
    },
    {
      "cell_type": "markdown",
      "metadata": {
        "id": "u4ENoGj9zMQy"
      },
      "source": [
        "## 4. Start experiment\n",
        "Once you set the dataset, \"train_data_loader\" for training will be available in the object."
      ]
    },
    {
      "cell_type": "code",
      "execution_count": null,
      "metadata": {
        "id": "qewyUekWtf9r"
      },
      "outputs": [],
      "source": [
        "myFamily.train(train_data_loader=myFamily.train_data_loader, epochs=1, save_model=False)"
      ]
    },
    {
      "cell_type": "code",
      "execution_count": 39,
      "metadata": {
        "colab": {
          "base_uri": "https://localhost:8080/"
        },
        "id": "BwEGWqyAwBLx",
        "outputId": "2482f07d-50ea-4162-e3fb-0103cd993c90"
      },
      "outputs": [
        {
          "data": {
            "text/plain": [
              "{'BERT_Type': ['BERTFamily', 'BFClassification'],\n",
              " 'pretrained_model': 'albert-base-v2',\n",
              " 'tokenizer': 'albert-base-v2',\n",
              " 'has_train_data': True,\n",
              " 'has_validation_data': False,\n",
              " 'has_test_data': False,\n",
              " 'hasModel': True,\n",
              " 'isTrained': True,\n",
              " 'train_acc': 0.645856052344602,\n",
              " 'train_loss': 38.7393524646759,\n",
              " 'test_acc': 0.0,\n",
              " 'test_loss': 0.0,\n",
              " 'accumulateEpoch': 1}"
            ]
          },
          "execution_count": 39,
          "metadata": {},
          "output_type": "execute_result"
        }
      ],
      "source": [
        "myFamily.status"
      ]
    },
    {
      "cell_type": "markdown",
      "metadata": {
        "id": "Xdj42fTY0C1K"
      },
      "source": [
        "# Example 2\n",
        "1. change pre-trained model\n",
        "2. evaluation and inference\n",
        "3. optimizer & learning scheduler"
      ]
    },
    {
      "cell_type": "code",
      "execution_count": null,
      "metadata": {
        "id": "Z4Zx_vvQ0FlR"
      },
      "outputs": [],
      "source": [
        "from datasets import load_dataset\n",
        "import pandas as pd\n",
        "import torch\n",
        "\n",
        "PRETRAINED_MODEL = \"prajjwal1/bert-tiny\"\n",
        "MAX_LENGTH = 100\n",
        "BATCH_SIZE = 64\n",
        "\n",
        "#set dataset\n",
        "dataset = load_dataset('glue', \"mrpc\")\n",
        "data = pd.DataFrame(dataset[\"train\"])[[\"sentence1\", \"sentence2\"]]\n",
        "target = dataset[\"train\"][\"label\"]\n",
        "\n",
        "val_data = pd.DataFrame(dataset[\"validation\"])[[\"sentence1\", \"sentence2\"]]\n",
        "val_target = dataset[\"validation\"][\"label\"]\n",
        "\n",
        "test_data = pd.DataFrame(dataset[\"test\"])[[\"sentence1\", \"sentence2\"]]\n",
        "\n",
        "#build BERT_Family object\n",
        "myFamily = BF.BFClassification(pretrained_model=PRETRAINED_MODEL, tokenizer=PRETRAINED_MODEL, max_length = MAX_LENGTH)\n",
        "myFamily.set_dataset(raw_data=data, raw_target=target, data_type=\"train\", batch_size=BATCH_SIZE)\n",
        "myFamily.set_dataset(raw_data=val_data, raw_target=val_target, data_type=\"validation\", batch_size=BATCH_SIZE)\n",
        "myFamily.load_model()\n",
        "\n",
        "#adjust training method\n",
        "optimizer = torch.optim.SGD(myFamily.model.parameters(), lr=1e-4, momentum=0.9)\n",
        "lr_scheduler = torch.optim.lr_scheduler.ExponentialLR(optimizer=optimizer, gamma=0.6)\n",
        "\n",
        "myFamily.train(train_data_loader=myFamily.train_data_loader, epochs=3, save_model=False,\n",
        "              eval=True, validation_data_loader=myFamily.validation_data_loader)\n",
        "\n",
        "#test/inference\n",
        "result = myFamily.inference(model=myFamily.model, data=test_data)\n",
        "\n",
        "#test result\n",
        "test_target = dataset[\"test\"][\"label\"]\n",
        "torch.sum(torch.tensor(result) == torch.tensor(test_target))/len(result)\n",
        "\n",
        "#or using myFamily.evaluation()\n"
      ]
    },
    {
      "cell_type": "markdown",
      "metadata": {
        "id": "sS_fzKE87N_F"
      },
      "source": [
        "#Example 3 - Automodeling"
      ]
    },
    {
      "cell_type": "code",
      "execution_count": null,
      "metadata": {
        "id": "UTie4NUH3Utv"
      },
      "outputs": [],
      "source": [
        "PRETRAINED_MODEL = \"prajjwal1/bert-tiny\"\n",
        "MAX_LENGTH = 100\n",
        "BATCH_SIZE = 64\n",
        "\n",
        "dataset = load_dataset('glue', \"cola\")\n",
        "#The features in dataset must be the same name, or you can specific x_dataframe and y instead of dataset.\n",
        "mymodel = BF.auto_build_model(dataset=dataset, \n",
        "                              dataset_x_features=[\"sentence\"],\n",
        "                              dataset_y_features=[\"label\"],\n",
        "                              batch_size=BATCH_SIZE ,\n",
        "                              tokenizer=PRETRAINED_MODEL,\n",
        "                              pretrained_model=PRETRAINED_MODEL,\n",
        "                              max_length=MAX_LENGTH)\n",
        "mymodel.train(train_data_loader=mymodel.train_data_loader, \n",
        "              validation_data_loader=mymodel.validation_data_loader, \n",
        "              epochs=1,\n",
        "              eval=True)"
      ]
    }
  ],
  "metadata": {
    "accelerator": "GPU",
    "colab": {
      "provenance": []
    },
    "gpuClass": "standard",
    "kernelspec": {
      "display_name": "Python 3.9.6 ('env': venv)",
      "language": "python",
      "name": "python3"
    },
    "language_info": {
      "codemirror_mode": {
        "name": "ipython",
        "version": 3
      },
      "file_extension": ".py",
      "mimetype": "text/x-python",
      "name": "python",
      "nbconvert_exporter": "python",
      "pygments_lexer": "ipython3",
      "version": "3.9.6"
    },
    "vscode": {
      "interpreter": {
        "hash": "5d58828fd0c5f7af717daf8982e0a9ccf3c174b5c7bbe63b6216d1f875908829"
      }
    },
    "widgets": {
      "application/vnd.jupyter.widget-state+json": {
        "01c22f458f744c6f85282029f23cb212": {
          "model_module": "@jupyter-widgets/controls",
          "model_module_version": "1.5.0",
          "model_name": "HTMLModel",
          "state": {
            "_dom_classes": [],
            "_model_module": "@jupyter-widgets/controls",
            "_model_module_version": "1.5.0",
            "_model_name": "HTMLModel",
            "_view_count": null,
            "_view_module": "@jupyter-widgets/controls",
            "_view_module_version": "1.5.0",
            "_view_name": "HTMLView",
            "description": "",
            "description_tooltip": null,
            "layout": "IPY_MODEL_13bb7da998aa43faa34b5d3b674626e2",
            "placeholder": "​",
            "style": "IPY_MODEL_d7c6c84f0776486190c67e87c56ca80e",
            "value": "100%"
          }
        },
        "0bcae1a952d04f4b8a156d754cf6f8f6": {
          "model_module": "@jupyter-widgets/base",
          "model_module_version": "1.2.0",
          "model_name": "LayoutModel",
          "state": {
            "_model_module": "@jupyter-widgets/base",
            "_model_module_version": "1.2.0",
            "_model_name": "LayoutModel",
            "_view_count": null,
            "_view_module": "@jupyter-widgets/base",
            "_view_module_version": "1.2.0",
            "_view_name": "LayoutView",
            "align_content": null,
            "align_items": null,
            "align_self": null,
            "border": null,
            "bottom": null,
            "display": null,
            "flex": null,
            "flex_flow": null,
            "grid_area": null,
            "grid_auto_columns": null,
            "grid_auto_flow": null,
            "grid_auto_rows": null,
            "grid_column": null,
            "grid_gap": null,
            "grid_row": null,
            "grid_template_areas": null,
            "grid_template_columns": null,
            "grid_template_rows": null,
            "height": null,
            "justify_content": null,
            "justify_items": null,
            "left": null,
            "margin": null,
            "max_height": null,
            "max_width": null,
            "min_height": null,
            "min_width": null,
            "object_fit": null,
            "object_position": null,
            "order": null,
            "overflow": null,
            "overflow_x": null,
            "overflow_y": null,
            "padding": null,
            "right": null,
            "top": null,
            "visibility": null,
            "width": null
          }
        },
        "13bb7da998aa43faa34b5d3b674626e2": {
          "model_module": "@jupyter-widgets/base",
          "model_module_version": "1.2.0",
          "model_name": "LayoutModel",
          "state": {
            "_model_module": "@jupyter-widgets/base",
            "_model_module_version": "1.2.0",
            "_model_name": "LayoutModel",
            "_view_count": null,
            "_view_module": "@jupyter-widgets/base",
            "_view_module_version": "1.2.0",
            "_view_name": "LayoutView",
            "align_content": null,
            "align_items": null,
            "align_self": null,
            "border": null,
            "bottom": null,
            "display": null,
            "flex": null,
            "flex_flow": null,
            "grid_area": null,
            "grid_auto_columns": null,
            "grid_auto_flow": null,
            "grid_auto_rows": null,
            "grid_column": null,
            "grid_gap": null,
            "grid_row": null,
            "grid_template_areas": null,
            "grid_template_columns": null,
            "grid_template_rows": null,
            "height": null,
            "justify_content": null,
            "justify_items": null,
            "left": null,
            "margin": null,
            "max_height": null,
            "max_width": null,
            "min_height": null,
            "min_width": null,
            "object_fit": null,
            "object_position": null,
            "order": null,
            "overflow": null,
            "overflow_x": null,
            "overflow_y": null,
            "padding": null,
            "right": null,
            "top": null,
            "visibility": null,
            "width": null
          }
        },
        "3128095bd670476c8821f16f0ac4617d": {
          "model_module": "@jupyter-widgets/controls",
          "model_module_version": "1.5.0",
          "model_name": "ProgressStyleModel",
          "state": {
            "_model_module": "@jupyter-widgets/controls",
            "_model_module_version": "1.5.0",
            "_model_name": "ProgressStyleModel",
            "_view_count": null,
            "_view_module": "@jupyter-widgets/base",
            "_view_module_version": "1.2.0",
            "_view_name": "StyleView",
            "bar_color": null,
            "description_width": ""
          }
        },
        "4e0191a369db474e8546160fceb97790": {
          "model_module": "@jupyter-widgets/controls",
          "model_module_version": "1.5.0",
          "model_name": "FloatProgressModel",
          "state": {
            "_dom_classes": [],
            "_model_module": "@jupyter-widgets/controls",
            "_model_module_version": "1.5.0",
            "_model_name": "FloatProgressModel",
            "_view_count": null,
            "_view_module": "@jupyter-widgets/controls",
            "_view_module_version": "1.5.0",
            "_view_name": "ProgressView",
            "bar_style": "success",
            "description": "",
            "description_tooltip": null,
            "layout": "IPY_MODEL_0bcae1a952d04f4b8a156d754cf6f8f6",
            "max": 3,
            "min": 0,
            "orientation": "horizontal",
            "style": "IPY_MODEL_3128095bd670476c8821f16f0ac4617d",
            "value": 3
          }
        },
        "7f8b294ff41641dcaca57557739c8fd3": {
          "model_module": "@jupyter-widgets/controls",
          "model_module_version": "1.5.0",
          "model_name": "HBoxModel",
          "state": {
            "_dom_classes": [],
            "_model_module": "@jupyter-widgets/controls",
            "_model_module_version": "1.5.0",
            "_model_name": "HBoxModel",
            "_view_count": null,
            "_view_module": "@jupyter-widgets/controls",
            "_view_module_version": "1.5.0",
            "_view_name": "HBoxView",
            "box_style": "",
            "children": [
              "IPY_MODEL_01c22f458f744c6f85282029f23cb212",
              "IPY_MODEL_4e0191a369db474e8546160fceb97790",
              "IPY_MODEL_a89443fb7fac4a818c1856e977b624da"
            ],
            "layout": "IPY_MODEL_e8993e6006994cebaea2194f3e35ea04"
          }
        },
        "a89443fb7fac4a818c1856e977b624da": {
          "model_module": "@jupyter-widgets/controls",
          "model_module_version": "1.5.0",
          "model_name": "HTMLModel",
          "state": {
            "_dom_classes": [],
            "_model_module": "@jupyter-widgets/controls",
            "_model_module_version": "1.5.0",
            "_model_name": "HTMLModel",
            "_view_count": null,
            "_view_module": "@jupyter-widgets/controls",
            "_view_module_version": "1.5.0",
            "_view_name": "HTMLView",
            "description": "",
            "description_tooltip": null,
            "layout": "IPY_MODEL_cb0e6095ba064400b1749a306cd68130",
            "placeholder": "​",
            "style": "IPY_MODEL_e0e9e0dcf6e8414b9d59157c55fe2211",
            "value": " 3/3 [00:00&lt;00:00, 113.29it/s]"
          }
        },
        "cb0e6095ba064400b1749a306cd68130": {
          "model_module": "@jupyter-widgets/base",
          "model_module_version": "1.2.0",
          "model_name": "LayoutModel",
          "state": {
            "_model_module": "@jupyter-widgets/base",
            "_model_module_version": "1.2.0",
            "_model_name": "LayoutModel",
            "_view_count": null,
            "_view_module": "@jupyter-widgets/base",
            "_view_module_version": "1.2.0",
            "_view_name": "LayoutView",
            "align_content": null,
            "align_items": null,
            "align_self": null,
            "border": null,
            "bottom": null,
            "display": null,
            "flex": null,
            "flex_flow": null,
            "grid_area": null,
            "grid_auto_columns": null,
            "grid_auto_flow": null,
            "grid_auto_rows": null,
            "grid_column": null,
            "grid_gap": null,
            "grid_row": null,
            "grid_template_areas": null,
            "grid_template_columns": null,
            "grid_template_rows": null,
            "height": null,
            "justify_content": null,
            "justify_items": null,
            "left": null,
            "margin": null,
            "max_height": null,
            "max_width": null,
            "min_height": null,
            "min_width": null,
            "object_fit": null,
            "object_position": null,
            "order": null,
            "overflow": null,
            "overflow_x": null,
            "overflow_y": null,
            "padding": null,
            "right": null,
            "top": null,
            "visibility": null,
            "width": null
          }
        },
        "d7c6c84f0776486190c67e87c56ca80e": {
          "model_module": "@jupyter-widgets/controls",
          "model_module_version": "1.5.0",
          "model_name": "DescriptionStyleModel",
          "state": {
            "_model_module": "@jupyter-widgets/controls",
            "_model_module_version": "1.5.0",
            "_model_name": "DescriptionStyleModel",
            "_view_count": null,
            "_view_module": "@jupyter-widgets/base",
            "_view_module_version": "1.2.0",
            "_view_name": "StyleView",
            "description_width": ""
          }
        },
        "e0e9e0dcf6e8414b9d59157c55fe2211": {
          "model_module": "@jupyter-widgets/controls",
          "model_module_version": "1.5.0",
          "model_name": "DescriptionStyleModel",
          "state": {
            "_model_module": "@jupyter-widgets/controls",
            "_model_module_version": "1.5.0",
            "_model_name": "DescriptionStyleModel",
            "_view_count": null,
            "_view_module": "@jupyter-widgets/base",
            "_view_module_version": "1.2.0",
            "_view_name": "StyleView",
            "description_width": ""
          }
        },
        "e8993e6006994cebaea2194f3e35ea04": {
          "model_module": "@jupyter-widgets/base",
          "model_module_version": "1.2.0",
          "model_name": "LayoutModel",
          "state": {
            "_model_module": "@jupyter-widgets/base",
            "_model_module_version": "1.2.0",
            "_model_name": "LayoutModel",
            "_view_count": null,
            "_view_module": "@jupyter-widgets/base",
            "_view_module_version": "1.2.0",
            "_view_name": "LayoutView",
            "align_content": null,
            "align_items": null,
            "align_self": null,
            "border": null,
            "bottom": null,
            "display": null,
            "flex": null,
            "flex_flow": null,
            "grid_area": null,
            "grid_auto_columns": null,
            "grid_auto_flow": null,
            "grid_auto_rows": null,
            "grid_column": null,
            "grid_gap": null,
            "grid_row": null,
            "grid_template_areas": null,
            "grid_template_columns": null,
            "grid_template_rows": null,
            "height": null,
            "justify_content": null,
            "justify_items": null,
            "left": null,
            "margin": null,
            "max_height": null,
            "max_width": null,
            "min_height": null,
            "min_width": null,
            "object_fit": null,
            "object_position": null,
            "order": null,
            "overflow": null,
            "overflow_x": null,
            "overflow_y": null,
            "padding": null,
            "right": null,
            "top": null,
            "visibility": null,
            "width": null
          }
        }
      }
    }
  },
  "nbformat": 4,
  "nbformat_minor": 0
}
