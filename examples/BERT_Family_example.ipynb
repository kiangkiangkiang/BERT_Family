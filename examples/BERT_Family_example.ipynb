{
  "nbformat": 4,
  "nbformat_minor": 0,
  "metadata": {
    "colab": {
      "provenance": []
    },
    "kernelspec": {
      "name": "python3",
      "display_name": "Python 3"
    },
    "language_info": {
      "name": "python"
    },
    "accelerator": "GPU",
    "gpuClass": "standard",
    "widgets": {
      "application/vnd.jupyter.widget-state+json": {
        "7f8b294ff41641dcaca57557739c8fd3": {
          "model_module": "@jupyter-widgets/controls",
          "model_name": "HBoxModel",
          "model_module_version": "1.5.0",
          "state": {
            "_dom_classes": [],
            "_model_module": "@jupyter-widgets/controls",
            "_model_module_version": "1.5.0",
            "_model_name": "HBoxModel",
            "_view_count": null,
            "_view_module": "@jupyter-widgets/controls",
            "_view_module_version": "1.5.0",
            "_view_name": "HBoxView",
            "box_style": "",
            "children": [
              "IPY_MODEL_01c22f458f744c6f85282029f23cb212",
              "IPY_MODEL_4e0191a369db474e8546160fceb97790",
              "IPY_MODEL_a89443fb7fac4a818c1856e977b624da"
            ],
            "layout": "IPY_MODEL_e8993e6006994cebaea2194f3e35ea04"
          }
        },
        "01c22f458f744c6f85282029f23cb212": {
          "model_module": "@jupyter-widgets/controls",
          "model_name": "HTMLModel",
          "model_module_version": "1.5.0",
          "state": {
            "_dom_classes": [],
            "_model_module": "@jupyter-widgets/controls",
            "_model_module_version": "1.5.0",
            "_model_name": "HTMLModel",
            "_view_count": null,
            "_view_module": "@jupyter-widgets/controls",
            "_view_module_version": "1.5.0",
            "_view_name": "HTMLView",
            "description": "",
            "description_tooltip": null,
            "layout": "IPY_MODEL_13bb7da998aa43faa34b5d3b674626e2",
            "placeholder": "​",
            "style": "IPY_MODEL_d7c6c84f0776486190c67e87c56ca80e",
            "value": "100%"
          }
        },
        "4e0191a369db474e8546160fceb97790": {
          "model_module": "@jupyter-widgets/controls",
          "model_name": "FloatProgressModel",
          "model_module_version": "1.5.0",
          "state": {
            "_dom_classes": [],
            "_model_module": "@jupyter-widgets/controls",
            "_model_module_version": "1.5.0",
            "_model_name": "FloatProgressModel",
            "_view_count": null,
            "_view_module": "@jupyter-widgets/controls",
            "_view_module_version": "1.5.0",
            "_view_name": "ProgressView",
            "bar_style": "success",
            "description": "",
            "description_tooltip": null,
            "layout": "IPY_MODEL_0bcae1a952d04f4b8a156d754cf6f8f6",
            "max": 3,
            "min": 0,
            "orientation": "horizontal",
            "style": "IPY_MODEL_3128095bd670476c8821f16f0ac4617d",
            "value": 3
          }
        },
        "a89443fb7fac4a818c1856e977b624da": {
          "model_module": "@jupyter-widgets/controls",
          "model_name": "HTMLModel",
          "model_module_version": "1.5.0",
          "state": {
            "_dom_classes": [],
            "_model_module": "@jupyter-widgets/controls",
            "_model_module_version": "1.5.0",
            "_model_name": "HTMLModel",
            "_view_count": null,
            "_view_module": "@jupyter-widgets/controls",
            "_view_module_version": "1.5.0",
            "_view_name": "HTMLView",
            "description": "",
            "description_tooltip": null,
            "layout": "IPY_MODEL_cb0e6095ba064400b1749a306cd68130",
            "placeholder": "​",
            "style": "IPY_MODEL_e0e9e0dcf6e8414b9d59157c55fe2211",
            "value": " 3/3 [00:00&lt;00:00, 113.29it/s]"
          }
        },
        "e8993e6006994cebaea2194f3e35ea04": {
          "model_module": "@jupyter-widgets/base",
          "model_name": "LayoutModel",
          "model_module_version": "1.2.0",
          "state": {
            "_model_module": "@jupyter-widgets/base",
            "_model_module_version": "1.2.0",
            "_model_name": "LayoutModel",
            "_view_count": null,
            "_view_module": "@jupyter-widgets/base",
            "_view_module_version": "1.2.0",
            "_view_name": "LayoutView",
            "align_content": null,
            "align_items": null,
            "align_self": null,
            "border": null,
            "bottom": null,
            "display": null,
            "flex": null,
            "flex_flow": null,
            "grid_area": null,
            "grid_auto_columns": null,
            "grid_auto_flow": null,
            "grid_auto_rows": null,
            "grid_column": null,
            "grid_gap": null,
            "grid_row": null,
            "grid_template_areas": null,
            "grid_template_columns": null,
            "grid_template_rows": null,
            "height": null,
            "justify_content": null,
            "justify_items": null,
            "left": null,
            "margin": null,
            "max_height": null,
            "max_width": null,
            "min_height": null,
            "min_width": null,
            "object_fit": null,
            "object_position": null,
            "order": null,
            "overflow": null,
            "overflow_x": null,
            "overflow_y": null,
            "padding": null,
            "right": null,
            "top": null,
            "visibility": null,
            "width": null
          }
        },
        "13bb7da998aa43faa34b5d3b674626e2": {
          "model_module": "@jupyter-widgets/base",
          "model_name": "LayoutModel",
          "model_module_version": "1.2.0",
          "state": {
            "_model_module": "@jupyter-widgets/base",
            "_model_module_version": "1.2.0",
            "_model_name": "LayoutModel",
            "_view_count": null,
            "_view_module": "@jupyter-widgets/base",
            "_view_module_version": "1.2.0",
            "_view_name": "LayoutView",
            "align_content": null,
            "align_items": null,
            "align_self": null,
            "border": null,
            "bottom": null,
            "display": null,
            "flex": null,
            "flex_flow": null,
            "grid_area": null,
            "grid_auto_columns": null,
            "grid_auto_flow": null,
            "grid_auto_rows": null,
            "grid_column": null,
            "grid_gap": null,
            "grid_row": null,
            "grid_template_areas": null,
            "grid_template_columns": null,
            "grid_template_rows": null,
            "height": null,
            "justify_content": null,
            "justify_items": null,
            "left": null,
            "margin": null,
            "max_height": null,
            "max_width": null,
            "min_height": null,
            "min_width": null,
            "object_fit": null,
            "object_position": null,
            "order": null,
            "overflow": null,
            "overflow_x": null,
            "overflow_y": null,
            "padding": null,
            "right": null,
            "top": null,
            "visibility": null,
            "width": null
          }
        },
        "d7c6c84f0776486190c67e87c56ca80e": {
          "model_module": "@jupyter-widgets/controls",
          "model_name": "DescriptionStyleModel",
          "model_module_version": "1.5.0",
          "state": {
            "_model_module": "@jupyter-widgets/controls",
            "_model_module_version": "1.5.0",
            "_model_name": "DescriptionStyleModel",
            "_view_count": null,
            "_view_module": "@jupyter-widgets/base",
            "_view_module_version": "1.2.0",
            "_view_name": "StyleView",
            "description_width": ""
          }
        },
        "0bcae1a952d04f4b8a156d754cf6f8f6": {
          "model_module": "@jupyter-widgets/base",
          "model_name": "LayoutModel",
          "model_module_version": "1.2.0",
          "state": {
            "_model_module": "@jupyter-widgets/base",
            "_model_module_version": "1.2.0",
            "_model_name": "LayoutModel",
            "_view_count": null,
            "_view_module": "@jupyter-widgets/base",
            "_view_module_version": "1.2.0",
            "_view_name": "LayoutView",
            "align_content": null,
            "align_items": null,
            "align_self": null,
            "border": null,
            "bottom": null,
            "display": null,
            "flex": null,
            "flex_flow": null,
            "grid_area": null,
            "grid_auto_columns": null,
            "grid_auto_flow": null,
            "grid_auto_rows": null,
            "grid_column": null,
            "grid_gap": null,
            "grid_row": null,
            "grid_template_areas": null,
            "grid_template_columns": null,
            "grid_template_rows": null,
            "height": null,
            "justify_content": null,
            "justify_items": null,
            "left": null,
            "margin": null,
            "max_height": null,
            "max_width": null,
            "min_height": null,
            "min_width": null,
            "object_fit": null,
            "object_position": null,
            "order": null,
            "overflow": null,
            "overflow_x": null,
            "overflow_y": null,
            "padding": null,
            "right": null,
            "top": null,
            "visibility": null,
            "width": null
          }
        },
        "3128095bd670476c8821f16f0ac4617d": {
          "model_module": "@jupyter-widgets/controls",
          "model_name": "ProgressStyleModel",
          "model_module_version": "1.5.0",
          "state": {
            "_model_module": "@jupyter-widgets/controls",
            "_model_module_version": "1.5.0",
            "_model_name": "ProgressStyleModel",
            "_view_count": null,
            "_view_module": "@jupyter-widgets/base",
            "_view_module_version": "1.2.0",
            "_view_name": "StyleView",
            "bar_color": null,
            "description_width": ""
          }
        },
        "cb0e6095ba064400b1749a306cd68130": {
          "model_module": "@jupyter-widgets/base",
          "model_name": "LayoutModel",
          "model_module_version": "1.2.0",
          "state": {
            "_model_module": "@jupyter-widgets/base",
            "_model_module_version": "1.2.0",
            "_model_name": "LayoutModel",
            "_view_count": null,
            "_view_module": "@jupyter-widgets/base",
            "_view_module_version": "1.2.0",
            "_view_name": "LayoutView",
            "align_content": null,
            "align_items": null,
            "align_self": null,
            "border": null,
            "bottom": null,
            "display": null,
            "flex": null,
            "flex_flow": null,
            "grid_area": null,
            "grid_auto_columns": null,
            "grid_auto_flow": null,
            "grid_auto_rows": null,
            "grid_column": null,
            "grid_gap": null,
            "grid_row": null,
            "grid_template_areas": null,
            "grid_template_columns": null,
            "grid_template_rows": null,
            "height": null,
            "justify_content": null,
            "justify_items": null,
            "left": null,
            "margin": null,
            "max_height": null,
            "max_width": null,
            "min_height": null,
            "min_width": null,
            "object_fit": null,
            "object_position": null,
            "order": null,
            "overflow": null,
            "overflow_x": null,
            "overflow_y": null,
            "padding": null,
            "right": null,
            "top": null,
            "visibility": null,
            "width": null
          }
        },
        "e0e9e0dcf6e8414b9d59157c55fe2211": {
          "model_module": "@jupyter-widgets/controls",
          "model_name": "DescriptionStyleModel",
          "model_module_version": "1.5.0",
          "state": {
            "_model_module": "@jupyter-widgets/controls",
            "_model_module_version": "1.5.0",
            "_model_name": "DescriptionStyleModel",
            "_view_count": null,
            "_view_module": "@jupyter-widgets/base",
            "_view_module_version": "1.2.0",
            "_view_name": "StyleView",
            "description_width": ""
          }
        }
      }
    }
  },
  "cells": [
    {
      "cell_type": "markdown",
      "source": [
        "# install package from github"
      ],
      "metadata": {
        "id": "_V8ElIHMt4CD"
      }
    },
    {
      "cell_type": "code",
      "source": [
        "!pip3 install --upgrade git+https://github.com/kiangkiangkiang/BERT_Family.git --user"
      ],
      "metadata": {
        "id": "HBNJBdBprrEg"
      },
      "execution_count": null,
      "outputs": []
    },
    {
      "cell_type": "markdown",
      "source": [
        "# Append path to environment (for Google Colab)"
      ],
      "metadata": {
        "id": "bfGGB5FBkg_N"
      }
    },
    {
      "cell_type": "code",
      "source": [
        "import os, sys\n",
        "sys.path.append(\"/root/.local/lib/python3.8/site-packages\")"
      ],
      "metadata": {
        "id": "dWazblURfgLg"
      },
      "execution_count": 2,
      "outputs": []
    },
    {
      "cell_type": "markdown",
      "source": [
        "# import BERT_Family"
      ],
      "metadata": {
        "id": "yxKVe7ICuB2F"
      }
    },
    {
      "cell_type": "code",
      "source": [
        "import BERT_Family as BF"
      ],
      "metadata": {
        "id": "avuLl1VauQ-v"
      },
      "execution_count": 3,
      "outputs": []
    },
    {
      "cell_type": "markdown",
      "source": [
        "# Example 1\n",
        "\n",
        "Workflow:\n",
        "1. Create BF object with specific pretrained model\n",
        "2. set your dataset\n",
        "3. load the pretrain model\n",
        "4. start train, eval, inference"
      ],
      "metadata": {
        "id": "nUmfsiPfrYv7"
      }
    },
    {
      "cell_type": "code",
      "source": [
        "from datasets import load_dataset\n",
        "import pandas as pd\n",
        "\n",
        "PRETRAINED_MODEL = \"albert-base-v2\"\n",
        "MAX_LENGTH = 80"
      ],
      "metadata": {
        "id": "rwBbAKj-rXZw"
      },
      "execution_count": null,
      "outputs": []
    },
    {
      "cell_type": "markdown",
      "source": [
        "## 1. Create BF object with pretrained model\n",
        "\n",
        "The model can be found from https://huggingface.co/models?sort=downloads&search=bert"
      ],
      "metadata": {
        "id": "m717qiBhxE2m"
      }
    },
    {
      "cell_type": "code",
      "source": [
        "myFamily = BF.BFClassification(pretrained_model=PRETRAINED_MODEL, tokenizer=PRETRAINED_MODEL, max_length = MAX_LENGTH)"
      ],
      "metadata": {
        "colab": {
          "base_uri": "https://localhost:8080/",
          "height": 105,
          "referenced_widgets": [
            "7f8b294ff41641dcaca57557739c8fd3",
            "01c22f458f744c6f85282029f23cb212",
            "4e0191a369db474e8546160fceb97790",
            "a89443fb7fac4a818c1856e977b624da",
            "e8993e6006994cebaea2194f3e35ea04",
            "13bb7da998aa43faa34b5d3b674626e2",
            "d7c6c84f0776486190c67e87c56ca80e",
            "0bcae1a952d04f4b8a156d754cf6f8f6",
            "3128095bd670476c8821f16f0ac4617d",
            "cb0e6095ba064400b1749a306cd68130",
            "e0e9e0dcf6e8414b9d59157c55fe2211"
          ]
        },
        "id": "ubYyOxvpsNgF",
        "outputId": "c1a445bd-0527-40be-fa58-eeeafb368bba"
      },
      "execution_count": 34,
      "outputs": [
        {
          "output_type": "stream",
          "name": "stderr",
          "text": [
            "WARNING:datasets.builder:Found cached dataset glue (/root/.cache/huggingface/datasets/glue/mrpc/1.0.0/dacbe3125aa31d7f70367a07a8a9e72a5a0bfeb5fc42e75c9db75b96da6053ad)\n"
          ]
        },
        {
          "output_type": "display_data",
          "data": {
            "text/plain": [
              "  0%|          | 0/3 [00:00<?, ?it/s]"
            ],
            "application/vnd.jupyter.widget-view+json": {
              "version_major": 2,
              "version_minor": 0,
              "model_id": "7f8b294ff41641dcaca57557739c8fd3"
            }
          },
          "metadata": {}
        },
        {
          "output_type": "stream",
          "name": "stdout",
          "text": [
            "Using device:  cuda:0\n"
          ]
        }
      ]
    },
    {
      "cell_type": "markdown",
      "source": [
        "##2. Set the dataset\n",
        "The required parameters of set_dataset() are \n",
        "1. raw_data, which is a type of pd.DataFrame with only x_features.\n",
        "2. raw_target, which is a type of list, represents the label of raw_data."
      ],
      "metadata": {
        "id": "cm038y0cxphh"
      }
    },
    {
      "cell_type": "code",
      "source": [
        "dataset = load_dataset('glue', \"mrpc\")\n",
        "data = pd.DataFrame(dataset[\"train\"])[[\"sentence1\", \"sentence2\"]]\n",
        "target = dataset[\"train\"][\"label\"]\n",
        "myFamily.set_dataset(raw_data=data, raw_target=target, batch_size=64)"
      ],
      "metadata": {
        "colab": {
          "base_uri": "https://localhost:8080/"
        },
        "id": "UIgl6MKwtDBs",
        "outputId": "acc12064-cca9-41d8-d95a-f891f1b08f45"
      },
      "execution_count": 35,
      "outputs": [
        {
          "output_type": "stream",
          "name": "stdout",
          "text": [
            "Using  albert-base-v2  to tokenize...\n"
          ]
        },
        {
          "output_type": "execute_result",
          "data": {
            "text/plain": [
              "<torch.utils.data.dataloader.DataLoader at 0x7f7498ee8550>"
            ]
          },
          "metadata": {},
          "execution_count": 35
        }
      ]
    },
    {
      "cell_type": "markdown",
      "source": [
        "##3. load model\n",
        "\n",
        "If you have the pre-trained weights, set its path to the parameters \"model_path\" to initialize the weights."
      ],
      "metadata": {
        "id": "dfzu67oxyoNT"
      }
    },
    {
      "cell_type": "code",
      "source": [
        "myFamily.load_model()"
      ],
      "metadata": {
        "id": "g_GPr_UjtpZN"
      },
      "execution_count": null,
      "outputs": []
    },
    {
      "cell_type": "markdown",
      "source": [
        "## 4. Start experiment\n",
        "Once you set the dataset, \"train_data_loader\" for training will be available in the object."
      ],
      "metadata": {
        "id": "u4ENoGj9zMQy"
      }
    },
    {
      "cell_type": "code",
      "source": [
        "myFamily.train(train_data_loader=myFamily.train_data_loader, epochs=1, save_model=False)"
      ],
      "metadata": {
        "id": "qewyUekWtf9r"
      },
      "execution_count": null,
      "outputs": []
    },
    {
      "cell_type": "code",
      "source": [
        "myFamily.status"
      ],
      "metadata": {
        "colab": {
          "base_uri": "https://localhost:8080/"
        },
        "id": "BwEGWqyAwBLx",
        "outputId": "2482f07d-50ea-4162-e3fb-0103cd993c90"
      },
      "execution_count": 39,
      "outputs": [
        {
          "output_type": "execute_result",
          "data": {
            "text/plain": [
              "{'BERT_Type': ['BERTFamily', 'BFClassification'],\n",
              " 'pretrained_model': 'albert-base-v2',\n",
              " 'tokenizer': 'albert-base-v2',\n",
              " 'has_train_data': True,\n",
              " 'has_validation_data': False,\n",
              " 'has_test_data': False,\n",
              " 'hasModel': True,\n",
              " 'isTrained': True,\n",
              " 'train_acc': 0.645856052344602,\n",
              " 'train_loss': 38.7393524646759,\n",
              " 'test_acc': 0.0,\n",
              " 'test_loss': 0.0,\n",
              " 'accumulateEpoch': 1}"
            ]
          },
          "metadata": {},
          "execution_count": 39
        }
      ]
    },
    {
      "cell_type": "markdown",
      "source": [
        "# Example 2\n",
        "1. change pre-trained model\n",
        "2. evaluation and inference\n",
        "3. optimizer & learning scheduler"
      ],
      "metadata": {
        "id": "Xdj42fTY0C1K"
      }
    },
    {
      "cell_type": "code",
      "source": [
        "from datasets import load_dataset\n",
        "import pandas as pd\n",
        "import torch\n",
        "\n",
        "PRETRAINED_MODEL = \"prajjwal1/bert-tiny\"\n",
        "MAX_LENGTH = 100\n",
        "BATCH_SIZE = 64\n",
        "\n",
        "#set dataset\n",
        "dataset = load_dataset('glue', \"mrpc\")\n",
        "data = pd.DataFrame(dataset[\"train\"])[[\"sentence1\", \"sentence2\"]]\n",
        "target = dataset[\"train\"][\"label\"]\n",
        "\n",
        "val_data = pd.DataFrame(dataset[\"validation\"])[[\"sentence1\", \"sentence2\"]]\n",
        "val_target = dataset[\"validation\"][\"label\"]\n",
        "\n",
        "test_data = pd.DataFrame(dataset[\"test\"])[[\"sentence1\", \"sentence2\"]]\n",
        "\n",
        "#build BERT_Family object\n",
        "myFamily = BF.BFClassification(pretrained_model=PRETRAINED_MODEL, tokenizer=PRETRAINED_MODEL, max_length = MAX_LENGTH)\n",
        "myFamily.set_dataset(raw_data=data, raw_target=target, data_type=\"train\", batch_size=BATCH_SIZE)\n",
        "myFamily.set_dataset(raw_data=val_data, raw_target=val_target, data_type=\"validation\", batch_size=BATCH_SIZE)\n",
        "myFamily.load_model()\n",
        "\n",
        "#adjust training method\n",
        "optimizer = torch.optim.SGD(myFamily.model.parameters(), lr=1e-4, momentum=0.9)\n",
        "lr_scheduler = torch.optim.lr_scheduler.ExponentialLR(optimizer=optimizer, gamma=0.6)\n",
        "\n",
        "myFamily.train(train_data_loader=myFamily.train_data_loader, epochs=3, save_model=False,\n",
        "              eval=True, validation_data_loader=myFamily.validation_data_loader)\n",
        "\n",
        "#test/inference\n",
        "result = myFamily.inference(model=myFamily.model, data=test_data)\n",
        "\n",
        "#test result\n",
        "test_target = dataset[\"test\"][\"label\"]\n",
        "torch.sum(torch.tensor(result) == torch.tensor(test_target))/len(result)\n",
        "\n",
        "#or using myFamily.evaluation()\n"
      ],
      "metadata": {
        "id": "Z4Zx_vvQ0FlR"
      },
      "execution_count": null,
      "outputs": []
    },
    {
      "cell_type": "markdown",
      "source": [
        "#Example 3 - Automodeling"
      ],
      "metadata": {
        "id": "sS_fzKE87N_F"
      }
    },
    {
      "cell_type": "code",
      "source": [
        "PRETRAINED_MODEL = \"prajjwal1/bert-tiny\"\n",
        "MAX_LENGTH = 100\n",
        "BATCH_SIZE = 64\n",
        "\n",
        "dataset = load_dataset('glue', \"cola\")\n",
        "#The features in dataset must be the same name, or you can specific x_dataframe and y instead of dataset.\n",
        "mymodel = BF.auto_build_model(dataset=dataset, \n",
        "                              dataset_x_features=[\"sentence\"],\n",
        "                              dataset_y_features=[\"label\"],\n",
        "                              batch_size=BATCH_SIZE ,\n",
        "                              tokenizer=PRETRAINED_MODEL,\n",
        "                              pretrained_model=PRETRAINED_MODEL,\n",
        "                              max_length=MAX_LENGTH)\n",
        "mymodel.train(train_data_loader=mymodel.train_data_loader, \n",
        "              validation_data_loader=mymodel.validation_data_loader, \n",
        "              epochs=1,\n",
        "              eval=True)"
      ],
      "metadata": {
        "id": "UTie4NUH3Utv"
      },
      "execution_count": null,
      "outputs": []
    }
  ]
}